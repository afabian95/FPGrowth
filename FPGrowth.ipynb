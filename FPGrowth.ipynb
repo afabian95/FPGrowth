{
 "cells": [
  {
   "cell_type": "code",
   "execution_count": 1,
   "metadata": {},
   "outputs": [
    {
     "name": "stdout",
     "output_type": "stream",
     "text": [
      "Association Rules:\n",
      "[{'Coke'}, {'Diaper'}, s = 0.4, c = 1.0]\n",
      "[{'Coke'}, {'Milk'}, s = 0.4, c = 1.0]\n",
      "[{'Coke'}, {'Milk', 'Diaper'}, s = 0.4, c = 1.0]\n",
      "[{'Milk', 'Diaper'}, {'Coke'}, s = 0.4, c = 0.6666666666666666]\n",
      "[{'Milk', 'Coke'}, {'Diaper'}, s = 0.4, c = 1.0]\n",
      "[{'Diaper', 'Coke'}, {'Milk'}, s = 0.4, c = 1.0]\n",
      "[{'Beer'}, {'Bread'}, s = 0.4, c = 0.6666666666666666]\n",
      "[{'Beer'}, {'Bread', 'Diaper'}, s = 0.4, c = 0.6666666666666666]\n",
      "[{'Bread', 'Beer'}, {'Diaper'}, s = 0.4, c = 1.0]\n",
      "[{'Bread', 'Diaper'}, {'Beer'}, s = 0.4, c = 0.6666666666666666]\n",
      "[{'Beer', 'Diaper'}, {'Bread'}, s = 0.4, c = 0.6666666666666666]\n",
      "[{'Beer'}, {'Milk'}, s = 0.4, c = 0.6666666666666666]\n",
      "[{'Beer'}, {'Milk', 'Diaper'}, s = 0.4, c = 0.6666666666666666]\n",
      "[{'Beer', 'Milk'}, {'Diaper'}, s = 0.4, c = 1.0]\n",
      "[{'Milk', 'Diaper'}, {'Beer'}, s = 0.4, c = 0.6666666666666666]\n",
      "[{'Beer', 'Diaper'}, {'Milk'}, s = 0.4, c = 0.6666666666666666]\n",
      "[{'Beer'}, {'Diaper'}, s = 0.6, c = 1.0]\n",
      "[{'Diaper'}, {'Beer'}, s = 0.6, c = 0.75]\n",
      "[{'Bread'}, {'Milk'}, s = 0.6, c = 0.75]\n",
      "[{'Milk'}, {'Bread'}, s = 0.6, c = 0.75]\n",
      "[{'Bread'}, {'Diaper'}, s = 0.6, c = 0.75]\n",
      "[{'Diaper'}, {'Bread'}, s = 0.6, c = 0.75]\n",
      "[{'Bread', 'Milk'}, {'Diaper'}, s = 0.4, c = 0.6666666666666666]\n",
      "[{'Bread', 'Diaper'}, {'Milk'}, s = 0.4, c = 0.6666666666666666]\n",
      "[{'Milk', 'Diaper'}, {'Bread'}, s = 0.4, c = 0.6666666666666666]\n",
      "[{'Milk'}, {'Diaper'}, s = 0.6, c = 0.75]\n",
      "[{'Diaper'}, {'Milk'}, s = 0.6, c = 0.75]\n"
     ]
    }
   ],
   "source": [
    "# Fabian Ardeljan\n",
    "# Data Mining\n",
    "# Dr. Ye\n",
    "\n",
    "from csv import reader\n",
    "from fptree import *\n",
    "\n",
    "MIN_SUP_RATIO = 0.4\n",
    "MIN_CONF = 0.6\n",
    "\n",
    "itemSetList = []\n",
    "frequency = []\n",
    "\n",
    "with open('data.csv', 'r') as file:\n",
    "    csv_reader = reader(file)\n",
    "    for line in csv_reader:\n",
    "        line = list(filter(None, line))\n",
    "        itemSetList.append(line)\n",
    "        frequency.append(1)\n",
    "\n",
    "minSup = len(itemSetList) * MIN_SUP_RATIO\n",
    "fpTree, headerTable = constructTree(itemSetList, frequency, minSup)\n",
    "\n",
    "freqItems = []\n",
    "mineTree(headerTable, minSup, set(), freqItems)\n",
    "rules = associationRule(freqItems, itemSetList, MIN_CONF)\n",
    "\n",
    "print(\"Association Rules:\")\n",
    "for rule in rules:\n",
    "    print(\"[\" + str(rule[0]) + \", \" + str(rule[1]) + \", s = \" + str(rule[2]) + \", c = \" + str(rule[3]) + \"]\")"
   ]
  }
 ],
 "metadata": {
  "kernelspec": {
   "display_name": "Python 3",
   "language": "python",
   "name": "python3"
  },
  "language_info": {
   "codemirror_mode": {
    "name": "ipython",
    "version": 3
   },
   "file_extension": ".py",
   "mimetype": "text/x-python",
   "name": "python",
   "nbconvert_exporter": "python",
   "pygments_lexer": "ipython3",
   "version": "3.7.6"
  }
 },
 "nbformat": 4,
 "nbformat_minor": 4
}
